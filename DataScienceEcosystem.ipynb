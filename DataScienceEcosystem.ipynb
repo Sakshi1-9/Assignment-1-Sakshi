{
 "cells": [
  {
   "cell_type": "code",
   "execution_count": 10,
   "id": "f923988e-3e60-477c-bf93-c7eb86d40bc6",
   "metadata": {},
   "outputs": [],
   "source": [
    "#ex 1: Creating a new jupyter notebook"
   ]
  },
  {
   "cell_type": "markdown",
   "id": "60834564-427c-480f-93be-605732f91908",
   "metadata": {},
   "source": [
    "# Data Science Tools and Ecosystem"
   ]
  },
  {
   "cell_type": "markdown",
   "id": "ad766567-02b9-4454-82c6-32c53e624a28",
   "metadata": {},
   "source": [
    "In this notebook, Data Science Tools and Ecosystem are summarized.\n"
   ]
  },
  {
   "cell_type": "markdown",
   "id": "8f031434-7606-409e-9797-0aa39d7b9f9e",
   "metadata": {},
   "source": [
    "**Objectives:**\n",
    "+ List popular data science libraries\n",
    "+ Multiply and Add numbers\n",
    "+ Convert minutes to hours\n",
    "+ Create a table of data science tools\n",
    "+ List data science languages"
   ]
  },
  {
   "cell_type": "markdown",
   "id": "a3e32538-6892-4a3b-9fec-f7ca6bb6ec18",
   "metadata": {},
   "source": [
    "Some of the popular languages that Data Scientists use are:\n",
    "\n",
    "1. Python\n",
    "2. SQL\n",
    "3. Scala\n",
    "4. Julia\n",
    "5. R \r\n"
   ]
  },
  {
   "cell_type": "markdown",
   "id": "4491d55a-48c7-4911-ab50-ede68a0c6dd9",
   "metadata": {},
   "source": [
    "Some of the commonly used libraries used by Data Scientists include:\n"
   ]
  },
  {
   "cell_type": "markdown",
   "id": "18bc99f2-1771-49e2-a70c-bbac717a1e92",
   "metadata": {},
   "source": [
    "1. NumPy\n",
    "2. Pandas\n",
    "3. MatplotLib\n",
    "4. Scikit-learn"
   ]
  },
  {
   "cell_type": "markdown",
   "id": "10136c06-446f-4e0e-a005-948492f0592f",
   "metadata": {},
   "source": [
    "|Data Science Tools|\n",
    "|------------------|\n",
    "|Jupyter Notebook  |\n",
    "|Google Colab      |\n",
    "|RStudio           |"
   ]
  },
  {
   "cell_type": "markdown",
   "id": "edf3cc6d-1d56-4e7d-a261-6333ff44adc9",
   "metadata": {},
   "source": [
    "###   Below are a few examples of evaluating arithmetic expressions in Python.\r\n"
   ]
  },
  {
   "cell_type": "code",
   "execution_count": 8,
   "id": "7e56096b-96cc-4512-be51-c924ebe50d48",
   "metadata": {},
   "outputs": [],
   "source": [
    "#This a simple arithmetic expression to mutiply then add integers."
   ]
  },
  {
   "cell_type": "code",
   "execution_count": 9,
   "id": "d5c7b9f7-822b-4ed6-8a79-6ef6e2b912dd",
   "metadata": {},
   "outputs": [
    {
     "data": {
      "text/plain": [
       "17"
      ]
     },
     "execution_count": 9,
     "metadata": {},
     "output_type": "execute_result"
    }
   ],
   "source": [
    "(3*4)+5"
   ]
  },
  {
   "cell_type": "code",
   "execution_count": 11,
   "id": "c7f4ef2f-2d67-449b-ba68-22495fb6e665",
   "metadata": {},
   "outputs": [],
   "source": [
    "#This will convert 200 minutes to hours by diving by 60."
   ]
  },
  {
   "cell_type": "code",
   "execution_count": 12,
   "id": "a0a0ce74-166f-4379-967b-f9428563246e",
   "metadata": {},
   "outputs": [
    {
     "data": {
      "text/plain": [
       "3.3333333333333335"
      ]
     },
     "execution_count": 12,
     "metadata": {},
     "output_type": "execute_result"
    }
   ],
   "source": [
    "200/60"
   ]
  },
  {
   "cell_type": "markdown",
   "id": "81ad14e3-2ebb-4114-a75b-60fde2f8a679",
   "metadata": {},
   "source": [
    "##  Author"
   ]
  },
  {
   "cell_type": "markdown",
   "id": "20cd378f-5e3f-4454-8df8-01d801f7ed27",
   "metadata": {},
   "source": [
    "Sakshi Tiwari "
   ]
  },
  {
   "cell_type": "code",
   "execution_count": null,
   "id": "fe98b2a4-f140-4f7b-b6fe-edb3e5099f50",
   "metadata": {},
   "outputs": [],
   "source": []
  }
 ],
 "metadata": {
  "kernelspec": {
   "display_name": "Python 3 (ipykernel)",
   "language": "python",
   "name": "python3"
  },
  "language_info": {
   "codemirror_mode": {
    "name": "ipython",
    "version": 3
   },
   "file_extension": ".py",
   "mimetype": "text/x-python",
   "name": "python",
   "nbconvert_exporter": "python",
   "pygments_lexer": "ipython3",
   "version": "3.12.4"
  }
 },
 "nbformat": 4,
 "nbformat_minor": 5
}
